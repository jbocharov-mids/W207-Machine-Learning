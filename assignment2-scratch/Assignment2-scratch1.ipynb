{
 "cells": [
  {
   "cell_type": "code",
   "execution_count": 1,
   "metadata": {
    "collapsed": true
   },
   "outputs": [],
   "source": [
    "# This tells matplotlib not to try opening a new window for each plot.\n",
    "%matplotlib inline\n",
    "\n",
    "# General libraries.\n",
    "import re\n",
    "import numpy as np\n",
    "import matplotlib.pyplot as plt\n",
    "\n",
    "# SK-learn libraries for learning.\n",
    "from sklearn.pipeline import Pipeline\n",
    "from sklearn.neighbors import KNeighborsClassifier\n",
    "from sklearn.linear_model import LogisticRegression\n",
    "from sklearn.naive_bayes import BernoulliNB\n",
    "from sklearn.naive_bayes import MultinomialNB\n",
    "from sklearn.grid_search import GridSearchCV\n",
    "\n",
    "# SK-learn libraries for evaluation.\n",
    "from sklearn.metrics import confusion_matrix\n",
    "from sklearn import metrics\n",
    "from sklearn.metrics import classification_report\n",
    "\n",
    "# SK-learn library for importing the newsgroup data.\n",
    "from sklearn.datasets import fetch_20newsgroups\n",
    "\n",
    "# SK-learn libraries for feature extraction from text.\n",
    "from sklearn.feature_extraction.text import *"
   ]
  },
  {
   "cell_type": "code",
   "execution_count": 2,
   "metadata": {
    "collapsed": false
   },
   "outputs": [
    {
     "name": "stdout",
     "output_type": "stream",
     "text": [
      "training label shape: (2034,)\n",
      "test label shape: (677,)\n",
      "dev label shape: (676,)\n",
      "labels names: ['alt.atheism', 'comp.graphics', 'sci.space', 'talk.religion.misc']\n"
     ]
    }
   ],
   "source": [
    "categories = ['alt.atheism', 'talk.religion.misc', 'comp.graphics', 'sci.space']\n",
    "newsgroups_train = fetch_20newsgroups(subset='train',\n",
    "                                      remove=('headers', 'footers', 'quotes'),\n",
    "                                      categories=categories)\n",
    "newsgroups_test = fetch_20newsgroups(subset='test',\n",
    "                                     remove=('headers', 'footers', 'quotes'),\n",
    "                                     categories=categories)\n",
    "\n",
    "num_test = len(newsgroups_test.target)\n",
    "test_data, test_labels = newsgroups_test.data[num_test/2:], newsgroups_test.target[num_test/2:]\n",
    "dev_data, dev_labels = newsgroups_test.data[:num_test/2], newsgroups_test.target[:num_test/2]\n",
    "train_data, train_labels = newsgroups_train.data, newsgroups_train.target\n",
    "\n",
    "print 'training label shape:', train_labels.shape\n",
    "print 'test label shape:', test_labels.shape\n",
    "print 'dev label shape:', dev_labels.shape\n",
    "print 'labels names:', newsgroups_train.target_names"
   ]
  },
  {
   "cell_type": "code",
   "execution_count": 3,
   "metadata": {
    "collapsed": false
   },
   "outputs": [
    {
     "name": "stdout",
     "output_type": "stream",
     "text": [
      "***** BEGIN EXAMPLE 0 *****\n",
      "Training label: 1 (comp.graphics)\n",
      "Text:\n",
      "-----\n",
      "\n",
      "Hi,\n",
      "\n",
      "I've noticed that if you only save a model (with all your mapping planes\n",
      "positioned carefully) to a .3DS file that when you reload it after restarting\n",
      "3DS, they are given a default position and orientation.  But if you save\n",
      "to a .PRJ file their positions/orientation are preserved.  Does anyone\n",
      "know why this information is not stored in the .3DS file?  Nothing is\n",
      "explicitly said in the manual about saving texture rules in the .PRJ file. \n",
      "I'd like to be able to read the texture rule information, does anyone have \n",
      "the format for the .PRJ file?\n",
      "\n",
      "Is the .CEL file format available from somewhere?\n",
      "\n",
      "Rych\n",
      "\n",
      "***** END EXAMPLE 0 *****\n",
      "\n",
      "***** BEGIN EXAMPLE 1 *****\n",
      "Training label: 3 (talk.religion.misc)\n",
      "Text:\n",
      "-----\n",
      "\n",
      "\n",
      "\n",
      "Seems to be, barring evidence to the contrary, that Koresh was simply\n",
      "another deranged fanatic who thought it neccessary to take a whole bunch of\n",
      "folks with him, children and all, to satisfy his delusional mania. Jim\n",
      "Jones, circa 1993.\n",
      "\n",
      "\n",
      "Nope - fruitcakes like Koresh have been demonstrating such evil corruption\n",
      "for centuries.\n",
      "\n",
      "***** END EXAMPLE 1 *****\n",
      "\n",
      "***** BEGIN EXAMPLE 2 *****\n",
      "Training label: 2 (sci.space)\n",
      "Text:\n",
      "-----\n",
      "\n",
      "\n",
      " >In article <1993Apr19.020359.26996@sq.sq.com>, msb@sq.sq.com (Mark Brader) \n",
      "\n",
      "MB>                                                             So the\n",
      "MB> 1970 figure seems unlikely to actually be anything but a perijove.\n",
      "\n",
      "JG>Sorry, _perijoves_...I'm not used to talking this language.\n",
      "\n",
      "Couldn't we just say periapsis or apoapsis?\n",
      "\n",
      " \n",
      "\n",
      "***** END EXAMPLE 2 *****\n",
      "\n",
      "***** BEGIN EXAMPLE 3 *****\n",
      "Training label: 0 (alt.atheism)\n",
      "Text:\n",
      "-----\n",
      "\n",
      "I have a request for those who would like to see Charley Wingate\n",
      "respond to the \"Charley Challenges\" (and judging from my e-mail, there\n",
      "appear to be quite a few of you.)  \n",
      "\n",
      "It is clear that Mr. Wingate intends to continue to post tangential or\n",
      "unrelated articles while ingoring the Challenges themselves.  Between\n",
      "the last two re-postings of the Challenges, I noted perhaps a dozen or\n",
      "more posts by Mr. Wingate, none of which answered a single Challenge.  \n",
      "\n",
      "It seems unmistakable to me that Mr. Wingate hopes that the questions\n",
      "will just go away, and he is doing his level best to change the\n",
      "subject.  Given that this seems a rather common net.theist tactic, I\n",
      "would like to suggest that we impress upon him our desire for answers,\n",
      "in the following manner:\n",
      "\n",
      "1. Ignore any future articles by Mr. Wingate that do not address the\n",
      "Challenges, until he answers them or explictly announces that he\n",
      "refuses to do so.\n",
      "\n",
      "--or--\n",
      "\n",
      "2. If you must respond to one of his articles, include within it\n",
      "something similar to the following:\n",
      "\n",
      "    \"Please answer the questions posed to you in the Charley Challenges.\"\n",
      "\n",
      "Really, I'm not looking to humiliate anyone here, I just want some\n",
      "honest answers.  You wouldn't think that honesty would be too much to\n",
      "ask from a devout Christian, would you?  \n",
      "\n",
      "Nevermind, that was a rhetorical question.\n",
      "\n",
      "***** END EXAMPLE 3 *****\n",
      "\n",
      "***** BEGIN EXAMPLE 4 *****\n",
      "Training label: 2 (sci.space)\n",
      "Text:\n",
      "-----\n",
      "\n",
      "AW&ST  had a brief blurb on a Manned Lunar Exploration confernce\n",
      "May 7th  at Crystal City Virginia, under the auspices of AIAA.\n",
      "\n",
      "Does anyone know more about this?  How much, to attend????\n",
      "\n",
      "Anyone want to go?\n",
      "\n",
      "***** END EXAMPLE 4 *****\n",
      "\n"
     ]
    }
   ],
   "source": [
    "num_examples = 5\n",
    "for i in range(num_examples):\n",
    "    example = train_data[i]\n",
    "    label_index = train_labels[i]\n",
    "    label_name = newsgroups_train.target_names[label_index]\n",
    "    \n",
    "    print '***** BEGIN EXAMPLE ' + str(i) + ' *****'\n",
    "    print 'Training label: ' + str(label_index) + ' (' + label_name + ')'\n",
    "    print 'Text:'\n",
    "    print '-----'\n",
    "    \n",
    "    print ''\n",
    "    print example\n",
    "    print ''\n",
    "    print '***** END EXAMPLE ' + str(i) + ' *****'\n",
    "    print ''\n"
   ]
  },
  {
   "cell_type": "markdown",
   "metadata": {},
   "source": [
    "(2) Use CountVectorizer to turn the raw training text into feature vectors. You should use the fit_transform function, which makes 2 passes through the data: first it computes the vocabulary (\"fit\"), second it converts the raw text into feature vectors using the vocabulary (\"transform\").\n",
    "\n",
    "The vectorizer has a lot of options. To get familiar with some of them, write code to answer these questions:\n",
    "\n",
    "a. The output of the transform (also of fit_transform) is a sparse matrix: http://docs.scipy.org/doc/scipy-0.14.0/reference/generated/scipy.sparse.csr_matrix.html. What is the size of the vocabulary? What is the average number of non-zero features per example? What fraction of the entries in the matrix are non-zero? Hint: use \"nnz\" and \"shape\" attributes.\n",
    "\n",
    "b. What are the 0th and last feature strings (in alphabetical order)? Hint: use the vectorizer's get_feature_names function.\n",
    "\n",
    "c. Specify your own vocabulary with 4 words: [\"atheism\", \"graphics\", \"space\", \"religion\"]. Confirm the training vectors are appropriately shaped. Now what's the average number of non-zero features per example?\n",
    "\n",
    "d. Instead of extracting unigram word features, use \"analyzer\" and \"ngram_range\" to extract bigram and trigram character features. What size vocabulary does this yield?\n",
    "\n",
    "e. Use the \"min_df\" argument to prune words that appear in fewer than 10 documents. What size vocabulary does this yield?\n",
    "\n",
    "f. Using the standard CountVectorizer, what fraction of the words in the dev data are missing from the vocabulary? Hint: build a vocabulary for both train and dev and look at the size of the difference."
   ]
  },
  {
   "cell_type": "code",
   "execution_count": 135,
   "metadata": {
    "collapsed": false
   },
   "outputs": [
    {
     "name": "stdout",
     "output_type": "stream",
     "text": [
      "***** (2) a. Output of the transform *****\n",
      "\n",
      "  Size of the vocabulary: 26879\n",
      "  Average non-zero features: 96.7059980334\n",
      "  Non-zero fraction: 0.00359782722696\n",
      "\n",
      "***** (2) b. 0th and last feature strings *****\n",
      "\n",
      "  0th feature string: \n",
      "    3ds able about after all and anyone are available be but carefully cel default does explicitly file for format from given have hi if in information is it know like manual mapping model not nothing noticed only orientation planes position positioned positions preserved prj read reload restarting rule rules rych said save saving somewhere stored texture that the their they this to ve when why with you your\n",
      "  last feature string: \n",
      "    \n",
      "  next to last feature string (last is empty): \n",
      "    _anything_ _behaviors_ _knowledgeable _waving about again all an and any application aquainted around as assertion atheism because becomes becoming being belief believe believer believer_ bit blah by call can carelessly caste certain circular coming contradiction conversely definition do does doesn don equally example except exclusion faith for from gets god good hand_ handedly happen harsh has have having if in inaccessible infer is islam it just justification knowledgable knowledge like limits logical me mean meaningless more much need no not nothing of off offshoot on only other pain penalties produce produces punishment re really religions say saying see sex silly some something speech statement suffering suggests teaches terms than that the then therefore this tiresome to toss true unapplied under what with without word you\n",
      "\n"
     ]
    }
   ],
   "source": [
    "def vectorize(data):\n",
    "    vectorizer = CountVectorizer()\n",
    "    vectorizer.fit(data)\n",
    "    return vectorizer\n",
    "\n",
    "def select_nonzero_indices(example):\n",
    "    return example.nonzero()[1]\n",
    "\n",
    "def select_features(example):\n",
    "    indices = select_nonzero_indices(example)\n",
    "    features = [\n",
    "        feature_name\n",
    "        for index, feature_name\n",
    "        in enumerate(feature_names)\n",
    "        if index in indices\n",
    "    ]\n",
    "    return features\n",
    "\n",
    "def select_non_zero_vector(examples):\n",
    "    (rows, columns) = np.shape(examples)\n",
    "    nnz_vector = [\n",
    "        examples[index].nnz\n",
    "        for index\n",
    "        in range(rows)\n",
    "    ]\n",
    "    \n",
    "    return nnz_vector\n",
    "\n",
    "def slice_by_columns(csr_matrix, column_indices):\n",
    "    csc_matrix = csr_matrix.tocsc()\n",
    "    csc_sliced = csc_matrix[:, column_indices]\n",
    "    return csc_sliced.tocsr()\n",
    "\n",
    "# def P2():\n",
    "vectorizer = vectorize(train_data)\n",
    "train_vectorized = vectorizer.transform(train_data)\n",
    "\n",
    "(examples, features) = np.shape(train_vectorized)\n",
    "non_zero_total = train_vectorized.nnz\n",
    "non_zero_vector = select_non_zero_vector(train_vectorized)\n",
    "feature_names = vectorizer.get_feature_names()\n",
    "\n",
    "print '***** (2) a. Output of the transform *****'\n",
    "print ''\n",
    "print '  Size of the vocabulary: ' + str(features)\n",
    "print '  Average non-zero features: ' + str(np.mean(non_zero_vector))\n",
    "print '  Non-zero fraction: ' + str((non_zero * 1.0) / (examples * features * 1.0))\n",
    "print ''\n",
    "\n",
    "zeroeth_example = train_vectorized[0]\n",
    "last_example = train_vectorized[examples - 1]\n",
    "next_to_last_example = train_vectorized[examples - 2]\n",
    "\n",
    "zeroeth_features = select_features(zeroeth_example)\n",
    "last_features = select_features(last_example)\n",
    "next_to_last_features = select_features(next_to_last_example)\n",
    "\n",
    "\n",
    "print '***** (2) b. 0th and last feature strings *****'\n",
    "print ''\n",
    "print '  0th feature string: '\n",
    "print '    ' + ' '.join(zeroeth_features)\n",
    "print '  last feature string: '\n",
    "print '    ' + ' '.join(last_features)\n",
    "print '  next to last feature string (last is empty): '\n",
    "print '    ' + ' '.join(next_to_last_features)\n",
    "print ''\n",
    "    \n",
    "\n",
    "# P2()\n",
    "\n"
   ]
  },
  {
   "cell_type": "code",
   "execution_count": 138,
   "metadata": {
    "collapsed": false
   },
   "outputs": [
    {
     "name": "stdout",
     "output_type": "stream",
     "text": [
      "***** (2) c. 4 word vocabulary *****\n",
      "\n",
      "  Shape of four-word vocabulary vectored training data: (2034, 4)\n",
      "  Average non-zero: 0.268436578171\n",
      "\n"
     ]
    }
   ],
   "source": [
    "\n",
    "\n",
    "\n",
    "\n",
    "four_word_vocabulary = [ 'atheism', 'graphics', 'space', 'religion' ]\n",
    "four_word_indices = [\n",
    "    index\n",
    "    for index, feature_name\n",
    "    in enumerate(feature_names)\n",
    "    if feature_name in four_word_vocabulary\n",
    "]\n",
    "\n",
    "four_word_train_vectorized = slice_by_columns(train_vectorized, four_word_indices)\n",
    "four_word_non_zero_vector = select_non_zero_vector(four_word_train_vectorized)\n",
    "\n",
    "\n",
    "print '***** (2) c. 4 word vocabulary *****'\n",
    "print ''\n",
    "\n",
    "print '  Shape of four-word vocabulary vectored training data: ' + \\\n",
    "    str(np.shape(four_word_train_vectorized))\n",
    "print '  Average non-zero: ' + str(np.mean(four_word_non_zero_vector))\n",
    "print ''\n",
    "\n"
   ]
  },
  {
   "cell_type": "code",
   "execution_count": 144,
   "metadata": {
    "collapsed": false
   },
   "outputs": [
    {
     "name": "stdout",
     "output_type": "stream",
     "text": [
      "***** (2) d. bigram/trigram character features vocabulary *****\n",
      "\n",
      "  Number of features (word-boundary character bigram/trigram): 28954\n",
      "\n"
     ]
    }
   ],
   "source": [
    "def vectorize_as_character_bigrams_trigrams(data):\n",
    "    vectorizer = CountVectorizer(analyzer = 'char_wb', ngram_range = (2, 3))\n",
    "    vectorizer.fit(data)\n",
    "    return vectorizer\n",
    "\n",
    "vectorizer = vectorize_as_character_bigrams_trigrams(train_data)\n",
    "train_char_bigram_trigram_vectorized = vectorizer.transform(train_data)\n",
    "(examples, features) = np.shape(train_char_bigram_trigram_vectorized)\n",
    "\n",
    "print '***** (2) d. bigram/trigram character features vocabulary *****'\n",
    "print ''\n",
    "print '  Number of features (word-boundary character bigram/trigram): ' + str(features)\n",
    "print ''"
   ]
  },
  {
   "cell_type": "code",
   "execution_count": 145,
   "metadata": {
    "collapsed": false
   },
   "outputs": [
    {
     "name": "stdout",
     "output_type": "stream",
     "text": [
      "***** (2) e. mininum document frequency 10 vocabulary *****\n",
      "\n",
      "  Number of features (word-boundary character bigram/trigram): 3064\n",
      "\n"
     ]
    }
   ],
   "source": [
    "def vectorize_with_document_frequency_pruning(data, min_df = 10):\n",
    "    vectorizer = CountVectorizer(min_df = min_df)\n",
    "    vectorizer.fit(data)\n",
    "    return vectorizer\n",
    "\n",
    "vectorizer = vectorize_with_document_frequency_pruning(train_data, 10)\n",
    "train_vectorized_pruned_min_df_10 = vectorizer.transform(train_data)\n",
    "(examples, features) = np.shape(train_vectorized_pruned_min_df_10)\n",
    "\n",
    "print '***** (2) e. mininum document frequency 10 vocabulary *****'\n",
    "print ''\n",
    "print '  Number of features (word-boundary character bigram/trigram): ' + str(features)\n",
    "print ''"
   ]
  },
  {
   "cell_type": "code",
   "execution_count": 154,
   "metadata": {
    "collapsed": false
   },
   "outputs": [
    {
     "name": "stdout",
     "output_type": "stream",
     "text": [
      "***** (2) f. fraction of missing dev vocabulary *****\n",
      "\n",
      "  Fraction of missing dev features from train vocabulary: 0.247876400345\n",
      "\n"
     ]
    },
    {
     "data": {
      "text/plain": [
       "16246"
      ]
     },
     "execution_count": 154,
     "metadata": {},
     "output_type": "execute_result"
    }
   ],
   "source": [
    "train_feature_names = vectorize(train_data).get_feature_names()\n",
    "dev_feature_names = vectorize(dev_data).get_feature_names()\n",
    "feature_names_intersection = set(train_feature_names).intersection(dev_feature_names)\n",
    "\n",
    "missing_fraction = 1.0 - ((1.0 * len(feature_names_intersection)) / (1.0 * len(dev_feature_names)))\n",
    "\n",
    "print '***** (2) f. fraction of missing dev vocabulary *****'\n",
    "print ''\n",
    "print '  Fraction of missing dev features from train vocabulary: ' + str(missing_fraction)\n",
    "print ''\n",
    "\n",
    "len(dev_feature_names)\n"
   ]
  },
  {
   "cell_type": "code",
   "execution_count": 170,
   "metadata": {
    "collapsed": false
   },
   "outputs": [
    {
     "name": "stdout",
     "output_type": "stream",
     "text": [
      "Fitting 3 folds for each of 9 candidates, totalling 27 fits\n",
      "[CV] n_neighbors=1 ...................................................\n",
      "[CV] .......................... n_neighbors=1, score=0.428715 -   0.1s\n",
      "[CV] n_neighbors=1 ...................................................\n",
      "[CV] .......................... n_neighbors=1, score=0.381899 -   0.1s\n",
      "[CV] n_neighbors=1 ...................................................\n",
      "[CV] .......................... n_neighbors=1, score=0.403747 -   0.1s\n",
      "[CV] n_neighbors=2 ...................................................\n",
      "[CV] .......................... n_neighbors=2, score=0.410820 -   0.1s\n",
      "[CV] n_neighbors=2 ...................................................\n",
      "[CV] .......................... n_neighbors=2, score=0.367443 -   0.1s\n",
      "[CV] n_neighbors=2 ...................................................\n",
      "[CV] .......................... n_neighbors=2, score=0.393002 -   0.1s\n",
      "[CV] n_neighbors=3 ...................................................\n",
      "[CV] .......................... n_neighbors=3, score=0.399735 -   0.1s\n",
      "[CV] n_neighbors=3 ...................................................\n",
      "[CV] .......................... n_neighbors=3, score=0.375351 -   0.1s\n",
      "[CV] n_neighbors=3 ...................................................\n",
      "[CV] .......................... n_neighbors=3, score=0.387084 -   0.1s\n",
      "[CV] n_neighbors=4 ...................................................\n",
      "[CV] .......................... n_neighbors=4, score=0.435629 -   0.1s\n",
      "[CV] n_neighbors=4 ...................................................\n",
      "[CV] .......................... n_neighbors=4, score=0.378401 -   0.1s\n",
      "[CV] n_neighbors=4 ...................................................\n",
      "[CV] .......................... n_neighbors=4, score=0.391345 -   0.1s\n",
      "[CV] n_neighbors=5 ...................................................\n",
      "[CV] .......................... n_neighbors=5, score=0.448607 -   0.1s\n",
      "[CV] n_neighbors=5 ...................................................\n",
      "[CV] .......................... n_neighbors=5, score=0.392682 -   0.1s\n",
      "[CV] n_neighbors=5 ...................................................\n",
      "[CV] .......................... n_neighbors=5, score=0.384132 -   0.1s\n",
      "[CV] n_neighbors=6 ...................................................\n",
      "[CV] .......................... n_neighbors=6, score=0.453594 -   0.1s\n",
      "[CV] n_neighbors=6 ...................................................\n",
      "[CV] .......................... n_neighbors=6, score=0.369835 -   0.1s\n",
      "[CV] n_neighbors=6 ...................................................\n",
      "[CV] .......................... n_neighbors=6, score=0.383730 -   0.1s\n",
      "[CV] n_neighbors=7 ...................................................\n",
      "[CV] .......................... n_neighbors=7, score=0.441711 -   0.1s\n",
      "[CV] n_neighbors=7 ...................................................\n",
      "[CV] .......................... n_neighbors=7, score=0.410899 -   0.1s\n",
      "[CV] n_neighbors=7 ...................................................\n",
      "[CV] .......................... n_neighbors=7, score=0.370378 -   0.1s\n",
      "[CV] n_neighbors=8 ...................................................\n",
      "[CV] .......................... n_neighbors=8, score=0.438021 -   0.1s\n",
      "[CV] n_neighbors=8 ...................................................\n",
      "[CV] .......................... n_neighbors=8, score=0.381387 -   0.1s\n",
      "[CV] n_neighbors=8 ...................................................\n",
      "[CV] .......................... n_neighbors=8, score=0.366140 -   0.1s\n",
      "[CV] n_neighbors=9 ...................................................\n",
      "[CV] .......................... n_neighbors=9, score=0.438630 -   0.1s\n",
      "[CV] n_neighbors=9 ...................................................\n",
      "[CV] .......................... n_neighbors=9, score=0.405469 -   0.1s\n",
      "[CV] n_neighbors=9 ...................................................\n",
      "[CV] .......................... n_neighbors=9, score=0.389484 -   0.1s"
     ]
    },
    {
     "name": "stderr",
     "output_type": "stream",
     "text": [
      "[Parallel(n_jobs=1)]: Done   1 jobs       | elapsed:    0.1s\n",
      "[Parallel(n_jobs=1)]: Done  27 out of  27 | elapsed:    2.3s finished\n"
     ]
    },
    {
     "name": "stdout",
     "output_type": "stream",
     "text": [
      "\n"
     ]
    }
   ],
   "source": [
    "from sklearn.metrics.pairwise import pairwise_distances\n",
    "\n",
    "vectorizer = vectorize(train_data)\n",
    "train_vectorized = vectorizer.transform(train_data)\n",
    "dev_vectorized = vectorizer.transform(dev_data)\n",
    "\n",
    "def best_nearest_neighbors(train_vectorized, train_labels, n_neighbors = range(1, 10)):\n",
    "    \n",
    "    hyperparameters = { 'n_neighbors' : n_neighbors } \n",
    "    nearest_neighbors = KNeighborsClassifier()\n",
    "    \n",
    "    grid_search = GridSearchCV(nearest_neighbors, hyperparameters, verbose = 3, scoring = 'f1')\n",
    "    grid_search.fit(train_vectorized, train_labels)\n",
    "    \n",
    "    return grid_search\n",
    "\n",
    "nearest_neighbors = best_nearest_neighbors(train_vectorized, train_labels)"
   ]
  },
  {
   "cell_type": "code",
   "execution_count": 176,
   "metadata": {
    "collapsed": false
   },
   "outputs": [
    {
     "name": "stdout",
     "output_type": "stream",
     "text": [
      "***** (3) a. k nearest neighbors *****\n",
      "\n",
      "  Best k: 5\n",
      "  F1 score over dev data: 0.43656661762\n",
      "\n"
     ]
    }
   ],
   "source": [
    "best_n_neighbors = nearest_neighbors.get_params()['estimator'].get_params()['n_neighbors']\n",
    "dev_predictions = nearest_neighbors.predict(dev_vectorized)\n",
    "knn_f1_score = metrics.f1_score(dev_labels, dev_predictions)\n",
    "\n",
    "print '***** (3) a. k nearest neighbors *****'\n",
    "print ''\n",
    "print '  Best k: ' + str(best_n_neighbors)\n",
    "print '  F1 score over dev data: ' + str(knn_f1_score)\n",
    "print ''"
   ]
  },
  {
   "cell_type": "code",
   "execution_count": 181,
   "metadata": {
    "collapsed": false
   },
   "outputs": [
    {
     "data": {
      "text/plain": [
       "KNeighborsClassifier(algorithm='auto', leaf_size=30, metric='minkowski',\n",
       "           metric_params=None, n_neighbors=5, p=2, weights='uniform')"
      ]
     },
     "execution_count": 181,
     "metadata": {},
     "output_type": "execute_result"
    }
   ],
   "source": [
    "nearest_5_neighbors = KNeighborsClassifier(n_neighbors = 5)\n",
    "nearest_5_neighbors.fit(train_vectorized, train_labels)"
   ]
  },
  {
   "cell_type": "code",
   "execution_count": 204,
   "metadata": {
    "collapsed": false
   },
   "outputs": [
    {
     "name": "stdout",
     "output_type": "stream",
     "text": [
      " Mean cosine distance to nearest neighbors: 0.497190184605\n"
     ]
    }
   ],
   "source": [
    "\n",
    "\n",
    "def cosine_distance(a, b):\n",
    "    return pairwise_distances(a, b, metric='cosine')[0][0]\n",
    "\n",
    "def select_nearest_neighbors(model, examples, example):\n",
    "    neighbor_indices = model.kneighbors(example)[1][0]\n",
    "    return examples[neighbor_indices]\n",
    "\n",
    "def mean_neighbor_cosine_distance(model, examples):\n",
    "    (n_examples, features) = np.shape(examples)\n",
    "    cosine_distances = [ ]\n",
    "    \n",
    "    for example_index in range(n_examples):\n",
    "        example = examples[example_index]\n",
    "        neighbors = select_nearest_neighbors(model, examples, example)\n",
    "        (n_neighbors, features) = np.shape(neighbors)\n",
    "\n",
    "        example_cosine_distances = [\n",
    "            cosine_distance(neighbors[index], example)\n",
    "            for index in range(n_neighbors)\n",
    "            if index != example_index\n",
    "        ]\n",
    "\n",
    "        cosine_distances += example_cosine_distances\n",
    "    \n",
    "    return np.mean(cosine_distances)\n",
    "                                  \n",
    "mean_distance = mean_neighbor_cosine_distance(nearest_5_neighbors, train_vectorized)\n",
    "print ' Mean cosine distance to nearest neighbors: ' + str(mean_distance)"
   ]
  },
  {
   "cell_type": "code",
   "execution_count": null,
   "metadata": {
    "collapsed": true
   },
   "outputs": [],
   "source": []
  }
 ],
 "metadata": {
  "kernelspec": {
   "display_name": "Python 2",
   "language": "python",
   "name": "python2"
  },
  "language_info": {
   "codemirror_mode": {
    "name": "ipython",
    "version": 2
   },
   "file_extension": ".py",
   "mimetype": "text/x-python",
   "name": "python",
   "nbconvert_exporter": "python",
   "pygments_lexer": "ipython2",
   "version": "2.7.10"
  }
 },
 "nbformat": 4,
 "nbformat_minor": 0
}
