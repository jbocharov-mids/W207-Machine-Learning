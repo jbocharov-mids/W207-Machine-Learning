{
 "cells": [
  {
   "cell_type": "code",
   "execution_count": 1,
   "metadata": {
    "collapsed": true
   },
   "outputs": [],
   "source": [
    "# This tells matplotlib not to try opening a new window for each plot.\n",
    "%matplotlib inline\n",
    "\n",
    "# Import a bunch of libraries.\n",
    "import time\n",
    "import numpy as np\n",
    "import matplotlib.pyplot as plt\n",
    "from matplotlib.ticker import MultipleLocator\n",
    "from sklearn.pipeline import Pipeline\n",
    "from sklearn.datasets import fetch_mldata\n",
    "from sklearn.neighbors import KNeighborsClassifier\n",
    "from sklearn.metrics import confusion_matrix\n",
    "from sklearn.linear_model import LinearRegression\n",
    "from sklearn.naive_bayes import BernoulliNB\n",
    "from sklearn.naive_bayes import MultinomialNB\n",
    "from sklearn.naive_bayes import GaussianNB\n",
    "from sklearn.grid_search import GridSearchCV\n",
    "from sklearn.metrics import classification_report\n",
    "\n",
    "# Set the randomizer seed so results are the same each time.\n",
    "np.random.seed(0)"
   ]
  },
  {
   "cell_type": "code",
   "execution_count": 2,
   "metadata": {
    "collapsed": false
   },
   "outputs": [
    {
     "name": "stdout",
     "output_type": "stream",
     "text": [
      "data shape:  (70000, 784)\n",
      "label shape: (70000,)\n"
     ]
    }
   ],
   "source": [
    "# Load the digit data either from mldata.org, or once downloaded to data_home, from disk. The data is about 53MB so this cell\n",
    "# should take a while the first time your run it.\n",
    "mnist = fetch_mldata('MNIST original', data_home='~/datasets/mnist')\n",
    "X, Y = mnist.data, mnist.target\n",
    "\n",
    "# Rescale grayscale values to [0,1].\n",
    "X = X / 255.0\n",
    "\n",
    "# Shuffle the input: create a random permutation of the integers between 0 and the number of data points and apply this\n",
    "# permutation to X and Y.\n",
    "# NOTE: Each time you run this cell, you'll re-shuffle the data, resulting in a different ordering.\n",
    "shuffle = np.random.permutation(np.arange(X.shape[0]))\n",
    "X, Y = X[shuffle], Y[shuffle]\n",
    "\n",
    "print 'data shape: ', X.shape\n",
    "print 'label shape:', Y.shape\n",
    "\n",
    "# Set some variables to hold test, dev, and training data.\n",
    "test_data, test_labels = X[61000:], Y[61000:]\n",
    "dev_data, dev_labels = X[60000:61000], Y[60000:61000]\n",
    "train_data, train_labels = X[:60000], Y[:60000]\n",
    "mini_train_data, mini_train_labels = X[:1000], Y[:1000]"
   ]
  },
  {
   "cell_type": "code",
   "execution_count": 5,
   "metadata": {
    "collapsed": false
   },
   "outputs": [],
   "source": [
    "example = mini_train_data[:1]\n"
   ]
  },
  {
   "cell_type": "code",
   "execution_count": 6,
   "metadata": {
    "collapsed": false
   },
   "outputs": [],
   "source": [
    "# Credit where due... some inspiration drawn from:\n",
    "# https://github.com/mnielsen/neural-networks-and-deep-learning/blob/master/fig/mnist.py\n",
    "\n",
    "# example_as_pixel_matrix():\n",
    "#   transforms a 784 element pixel into a 28 x 28 pixel matrix\n",
    "def example_as_pixel_matrix(example):\n",
    "    return np.reshape(example, (-1, 28))\n",
    "\n",
    "# add_example_to_figure():\n",
    "#   given an existing figure, number of rows, columns, and position,\n",
    "#   adds a subplot with the example to the figure\n",
    "def add_example_to_figure(example, \n",
    "                     figure, \n",
    "                     subplot_rows, \n",
    "                     subplot_cols, \n",
    "                     subplot_number):\n",
    "    matrix = example_as_pixel_matrix(example)\n",
    "\n",
    "    subplot = figure.add_subplot(subplot_rows, subplot_cols, subplot_number)\n",
    "    subplot.imshow(matrix, cmap='Greys', interpolation='Nearest')\n",
    "    # disable tick marks\n",
    "    subplot.set_xticks(np.array([]))\n",
    "    subplot.set_yticks(np.array([]))\n",
    "\n",
    "# plot_examples():\n",
    "#   given a matrix of examples (digit, example#) => example, \n",
    "#   plots it with digits as rows and examples as columns\n",
    "def plot_examples(examples):\n",
    "    \n",
    "    figure = plt.figure()\n",
    "    \n",
    "    shape = np.shape(examples)\n",
    "    rows = shape[0]\n",
    "    columns = shape[1]\n",
    "    \n",
    "    subplot_index = 1\n",
    "    \n",
    "    for digit, examples_for_digit in enumerate(examples):\n",
    "        for example_index, example in enumerate(examples_for_digit):\n",
    "            add_example_to_figure(example, \n",
    "                                  figure, \n",
    "                                  rows, \n",
    "                                  columns, \n",
    "                                  subplot_index\n",
    "                                 )\n",
    "            subplot_index = subplot_index + 1\n",
    "    \n",
    "    figure.tight_layout()\n",
    "    plt.show()\n",
    "\n",
    "# plot_one_example():\n",
    "#   given an example, plots only that example, typically\n",
    "#   for debugging or diagnostics\n",
    "def plot_one_example(example):  \n",
    "    examples = [ [ example ] ]\n",
    "    plot_examples(examples)\n",
    "\n",
    "# select_indices_of_digit():\n",
    "#   given an array of digit lables, selects the indices of\n",
    "#   labels that match a desired digit\n",
    "def select_indices_of_digit(labels, digit):\n",
    "    return [i for i, label in enumerate(labels) if label == digit]\n",
    "\n",
    "# take_n_from():\n",
    "#   code readability sugar for taking a number of elements from an array\n",
    "def take_n_from(count, array):\n",
    "    return array[:count]\n",
    "\n",
    "# take_n_examples_by_digit():\n",
    "#   given a data set of examples, a label set, and a parameter n,\n",
    "#   creates a matrix where the rows are the digits 0-9, and the\n",
    "#   columns are the first n examples of each digit\n",
    "def take_n_examples_by_digit(data, labels, n):\n",
    "    examples = [\n",
    "        data[take_n_from(n, select_indices_of_digit(labels, digit))]\n",
    "        for digit in range(10)\n",
    "    ]\n",
    "    return examples"
   ]
  },
  {
   "cell_type": "code",
   "execution_count": 7,
   "metadata": {
    "collapsed": false
   },
   "outputs": [
    {
     "data": {
      "text/plain": [
       "array([ 8.,  8.,  8.,  8.,  8.,  8.,  8.,  8.,  8.,  8.,  8.,  8.,  8.,\n",
       "        8.,  8.,  8.,  8.,  8.,  8.,  8.,  8.,  8.,  8.,  8.,  8.,  8.,\n",
       "        8.,  8.,  8.,  8.,  8.,  8.,  8.,  8.,  8.,  8.,  8.,  8.,  8.,\n",
       "        8.,  8.,  8.,  8.,  8.,  8.,  8.,  8.,  8.,  8.,  8.,  8.,  8.,\n",
       "        8.,  8.,  8.,  8.,  8.,  8.,  8.,  8.,  8.,  8.,  8.,  8.,  8.,\n",
       "        8.,  8.,  8.,  8.,  8.,  8.,  8.,  8.,  8.,  8.,  8.,  8.,  8.,\n",
       "        8.,  8.,  8.,  8.,  8.,  8.,  8.,  8.,  8.,  8.,  8.,  8.,  8.,  8.])"
      ]
     },
     "execution_count": 7,
     "metadata": {},
     "output_type": "execute_result"
    }
   ],
   "source": [
    "indices_8 = [i for i, digit in enumerate(mini_train_labels) if digit == 8]\n",
    "mini_train_labels[indices_8]\n"
   ]
  },
  {
   "cell_type": "code",
   "execution_count": 9,
   "metadata": {
    "collapsed": false
   },
   "outputs": [
    {
     "data": {
      "text/plain": [
       "[6, 21, 23, 44, 47, 54, 70, 81, 93, 98]"
      ]
     },
     "execution_count": 9,
     "metadata": {},
     "output_type": "execute_result"
    }
   ],
   "source": [
    "take_n_from(10, select_indices_of_digit(mini_train_labels, 8))"
   ]
  },
  {
   "cell_type": "code",
   "execution_count": 11,
   "metadata": {
    "collapsed": false
   },
   "outputs": [
    {
     "data": {
      "image/png": "[encoded data removed]",
      "text/plain": [
       "<matplotlib.figure.Figure at 0x1108de3d0>"
      ]
     },
     "metadata": {},
     "output_type": "display_data"
    }
   ],
   "source": [
    "examples = take_n_examples_by_digit(mini_train_data, mini_train_labels, 10)\n",
    "plot_examples(examples)"
   ]
  },
  {
   "cell_type": "code",
   "execution_count": 12,
   "metadata": {
    "collapsed": false
   },
   "outputs": [],
   "source": [
    "from sklearn.metrics import accuracy_score\n",
    "\n",
    "# apply_k_nearest_neighbors():\n",
    "#   given the parameter k, training data and labels, and development data and labels,\n",
    "#   fit a k nearest neighbors classifier using the training data, \n",
    "#   test using development data, and output a report\n",
    "def apply_k_nearest_neighbors(k,\n",
    "                              training_data,\n",
    "                              training_labels,\n",
    "                              development_data,\n",
    "                              development_labels):\n",
    "\n",
    "    neigh = KNeighborsClassifier(n_neighbors = k)\n",
    "    neigh.fit(training_data, training_labels)\n",
    "    \n",
    "    predicted_labels = neigh.predict(development_data)\n",
    "    \n",
    "    target_names = [ str(i) for i in range(10) ]\n",
    "    \n",
    "    print '============ Classification report for k = ' + str(k) + ' ============'\n",
    "    print ''\n",
    "    print(classification_report(\n",
    "            development_labels, \n",
    "            predicted_labels, \n",
    "            target_names = target_names))\n",
    "    \n",
    "    return accuracy_score(development_labels, predicted_labels, normalize = True)"
   ]
  },
  {
   "cell_type": "code",
   "execution_count": 13,
   "metadata": {
    "collapsed": false
   },
   "outputs": [
    {
     "name": "stdout",
     "output_type": "stream",
     "text": [
      "============ Classification report for k = 1 ============\n",
      "\n",
      "             precision    recall  f1-score   support\n",
      "\n",
      "          0       0.91      0.98      0.94        99\n",
      "          1       0.89      1.00      0.94       105\n",
      "          2       0.99      0.79      0.88       102\n",
      "          3       0.77      0.87      0.82        86\n",
      "          4       0.89      0.82      0.85       104\n",
      "          5       0.93      0.84      0.88        91\n",
      "          6       0.94      0.96      0.95        98\n",
      "          7       0.89      0.92      0.90       113\n",
      "          8       0.94      0.88      0.91        96\n",
      "          9       0.78      0.82      0.80       106\n",
      "\n",
      "avg / total       0.89      0.89      0.89      1000\n",
      "\n",
      "============ Classification report for k = 3 ============\n",
      "\n",
      "             precision    recall  f1-score   support\n",
      "\n",
      "          0       0.90      1.00      0.95        99\n",
      "          1       0.81      1.00      0.89       105\n",
      "          2       0.95      0.81      0.88       102\n",
      "          3       0.69      0.84      0.75        86\n",
      "          4       0.88      0.85      0.86       104\n",
      "          5       0.94      0.79      0.86        91\n",
      "          6       0.97      0.96      0.96        98\n",
      "          7       0.92      0.88      0.90       113\n",
      "          8       0.96      0.79      0.87        96\n",
      "          9       0.84      0.85      0.85       106\n",
      "\n",
      "avg / total       0.89      0.88      0.88      1000\n",
      "\n",
      "============ Classification report for k = 5 ============\n",
      "\n",
      "             precision    recall  f1-score   support\n",
      "\n",
      "          0       0.92      0.98      0.95        99\n",
      "          1       0.78      1.00      0.88       105\n",
      "          2       0.98      0.80      0.88       102\n",
      "          3       0.76      0.84      0.80        86\n",
      "          4       0.87      0.83      0.85       104\n",
      "          5       0.93      0.82      0.87        91\n",
      "          6       0.94      0.95      0.94        98\n",
      "          7       0.87      0.87      0.87       113\n",
      "          8       0.96      0.77      0.86        96\n",
      "          9       0.77      0.82      0.79       106\n",
      "\n",
      "avg / total       0.88      0.87      0.87      1000\n",
      "\n",
      "============ Classification report for k = 7 ============\n",
      "\n",
      "             precision    recall  f1-score   support\n",
      "\n",
      "          0       0.91      0.98      0.94        99\n",
      "          1       0.77      1.00      0.87       105\n",
      "          2       0.99      0.76      0.86       102\n",
      "          3       0.79      0.87      0.83        86\n",
      "          4       0.90      0.81      0.85       104\n",
      "          5       0.95      0.81      0.88        91\n",
      "          6       0.91      0.93      0.92        98\n",
      "          7       0.83      0.88      0.85       113\n",
      "          8       0.95      0.78      0.86        96\n",
      "          9       0.77      0.81      0.79       106\n",
      "\n",
      "avg / total       0.87      0.86      0.86      1000\n",
      "\n",
      "============ Classification report for k = 9 ============\n",
      "\n",
      "             precision    recall  f1-score   support\n",
      "\n",
      "          0       0.91      0.98      0.94        99\n",
      "          1       0.73      1.00      0.84       105\n",
      "          2       0.97      0.75      0.85       102\n",
      "          3       0.80      0.85      0.82        86\n",
      "          4       0.91      0.81      0.86       104\n",
      "          5       0.97      0.79      0.87        91\n",
      "          6       0.92      0.93      0.92        98\n",
      "          7       0.83      0.88      0.85       113\n",
      "          8       0.94      0.79      0.86        96\n",
      "          9       0.78      0.84      0.81       106\n",
      "\n",
      "avg / total       0.88      0.86      0.86      1000\n",
      "\n"
     ]
    },
    {
     "data": {
      "text/plain": [
       "[0.88800000000000001,\n",
       " 0.878,\n",
       " 0.86899999999999999,\n",
       " 0.86499999999999999,\n",
       " 0.86299999999999999]"
      ]
     },
     "execution_count": 13,
     "metadata": {},
     "output_type": "execute_result"
    }
   ],
   "source": [
    "def P2(k_values):\n",
    "    return [\n",
    "        apply_k_nearest_neighbors(k,\n",
    "                                  mini_train_data,\n",
    "                                  mini_train_labels,\n",
    "                                  dev_data,\n",
    "                                  dev_labels)\n",
    "        for k in k_values\n",
    "    ]\n",
    "\n",
    "k_values = [1, 3, 5, 7, 9]\n",
    "P2(k_values)"
   ]
  },
  {
   "cell_type": "code",
   "execution_count": 14,
   "metadata": {
    "collapsed": false
   },
   "outputs": [
    {
     "ename": "NameError",
     "evalue": "name 'predicted' is not defined",
     "output_type": "error",
     "traceback": [
      "\u001b[0;31m---------------------------------------------------------------------------\u001b[0m",
      "\u001b[0;31mNameError\u001b[0m                                 Traceback (most recent call last)",
      "\u001b[0;32m<ipython-input-14-db50c9517576>\u001b[0m in \u001b[0;36m<module>\u001b[0;34m()\u001b[0m\n\u001b[0;32m----> 1\u001b[0;31m \u001b[0;32mprint\u001b[0m\u001b[0;34m(\u001b[0m\u001b[0mclassification_report\u001b[0m\u001b[0;34m(\u001b[0m\u001b[0mdev_labels\u001b[0m\u001b[0;34m,\u001b[0m \u001b[0mpredicted\u001b[0m\u001b[0;34m,\u001b[0m \u001b[0mtarget_names\u001b[0m \u001b[0;34m=\u001b[0m \u001b[0mtarget_names\u001b[0m\u001b[0;34m)\u001b[0m\u001b[0;34m)\u001b[0m\u001b[0;34m\u001b[0m\u001b[0m\n\u001b[0m",
      "\u001b[0;31mNameError\u001b[0m: name 'predicted' is not defined"
     ]
    }
   ],
   "source": [
    "print(classification_report(dev_labels, predicted, target_names = target_names))"
   ]
  },
  {
   "cell_type": "code",
   "execution_count": 169,
   "metadata": {
    "collapsed": false
   },
   "outputs": [
    {
     "data": {
      "text/plain": [
       "{0: '0',\n",
       " 1: '1',\n",
       " 2: '2',\n",
       " 3: '3',\n",
       " 4: '4',\n",
       " 5: '5',\n",
       " 6: '6',\n",
       " 7: '7',\n",
       " 8: '8',\n",
       " 9: '9'}"
      ]
     },
     "execution_count": 169,
     "metadata": {},
     "output_type": "execute_result"
    }
   ],
   "source": [
    "target_names = { i : str(i) for i in range(10) }\n",
    "target_names"
   ]
  },
  {
   "cell_type": "code",
   "execution_count": 201,
   "metadata": {
    "collapsed": false
   },
   "outputs": [],
   "source": [
    "start = time.time()\n"
   ]
  },
  {
   "cell_type": "code",
   "execution_count": 202,
   "metadata": {
    "collapsed": true
   },
   "outputs": [],
   "source": [
    "end = time.time()\n"
   ]
  },
  {
   "cell_type": "code",
   "execution_count": 203,
   "metadata": {
    "collapsed": false
   },
   "outputs": [
    {
     "data": {
      "text/plain": [
       "2.051046133041382"
      ]
     },
     "execution_count": 203,
     "metadata": {},
     "output_type": "execute_result"
    }
   ],
   "source": [
    "end-start"
   ]
  },
  {
   "cell_type": "code",
   "execution_count": 15,
   "metadata": {
    "collapsed": true
   },
   "outputs": [],
   "source": [
    "# k_nearest_neighbors_timed_accuracy():\n",
    "#   given the parameter k, training data and labels, and development data and labels,\n",
    "#   fit a k nearest neighbors classifier using the training data, \n",
    "#   test using development data, and return the number of examples, prediction time,\n",
    "#   and accuracy as a Python dictionary\n",
    "def k_nearest_neighbors_timed_accuracy(k,\n",
    "                                       training_data,\n",
    "                                       training_labels,\n",
    "                                       development_data,\n",
    "                                       development_labels):\n",
    "\n",
    "    neigh = KNeighborsClassifier(n_neighbors = k)\n",
    "    neigh.fit(training_data, training_labels)\n",
    "    \n",
    "    start = time.time()\n",
    "    predicted_labels = neigh.predict(development_data)\n",
    "    end = time.time()\n",
    "    \n",
    "    examples, dimensions = np.shape(training_data)\n",
    "        \n",
    "    accuracy = accuracy_score(development_labels, predicted_labels, normalize = True)\n",
    "    \n",
    "    return { 'examples' : examples, 'time' : end-start, 'accuracy' : accuracy }\n",
    "\n"
   ]
  },
  {
   "cell_type": "code",
   "execution_count": 215,
   "metadata": {
    "collapsed": false
   },
   "outputs": [
    {
     "data": {
      "text/plain": [
       "{'accuracy': 0.88500000000000001, 'examples': 1000, 'time': 1.6494770050048828}"
      ]
     },
     "execution_count": 215,
     "metadata": {},
     "output_type": "execute_result"
    }
   ],
   "source": [
    "k_nearest_neighbors_timed_accuracy(1, mini_train_data, mini_train_labels, dev_data, dev_labels)"
   ]
  },
  {
   "cell_type": "code",
   "execution_count": 16,
   "metadata": {
    "collapsed": false
   },
   "outputs": [],
   "source": [
    "def P3(train_sizes, accuracies):\n",
    "    k = 1\n",
    "    for train_size in train_sizes:\n",
    "        # sample train_size examples from the training set\n",
    "        current_train_data, current_train_labels = X[:train_size], Y[:train_size]\n",
    "        \n",
    "        results = k_nearest_neighbors_timed_accuracy(k,\n",
    "                                                     current_train_data,\n",
    "                                                     current_train_labels,\n",
    "                                                     dev_data,\n",
    "                                                     dev_labels)\n",
    "        print(results)\n",
    "        accuracies.append(results['accuracy'])\n",
    "        "
   ]
  },
  {
   "cell_type": "code",
   "execution_count": 17,
   "metadata": {
    "collapsed": false
   },
   "outputs": [
    {
     "name": "stdout",
     "output_type": "stream",
     "text": [
      "{'accuracy': 0.71999999999999997, 'examples': 100, 'time': 0.13938307762145996}\n",
      "{'accuracy': 0.78600000000000003, 'examples': 200, 'time': 0.2778639793395996}\n",
      "{'accuracy': 0.84099999999999997, 'examples': 400, 'time': 0.5241100788116455}\n",
      "{'accuracy': 0.88400000000000001, 'examples': 800, 'time': 1.3418858051300049}\n",
      "{'accuracy': 0.90200000000000002, 'examples': 1600, 'time': 3.084074020385742}\n",
      "{'accuracy': 0.92600000000000005, 'examples': 3200, 'time': 4.645766019821167}\n",
      "{'accuracy': 0.93700000000000006, 'examples': 6400, 'time': 9.279623985290527}\n",
      "{'accuracy': 0.95899999999999996, 'examples': 12800, 'time': 18.620343923568726}\n",
      "{'accuracy': 0.96999999999999997, 'examples': 25000, 'time': 37.803242921829224}\n"
     ]
    }
   ],
   "source": [
    "train_sizes = [100, 200, 400, 800, 1600, 3200, 6400, 12800, 25000]\n",
    "accuracies = [ ]\n",
    "P3(train_sizes, accuracies)"
   ]
  },
  {
   "cell_type": "code",
   "execution_count": 18,
   "metadata": {
    "collapsed": true
   },
   "outputs": [],
   "source": [
    "from sklearn.linear_model import LogisticRegression\n",
    "\n",
    "# fit_linear_regression():\n",
    "#   given arrays of training data sizes and corresponding accuracies,\n",
    "#   train and return a linear regression model for predicting accuracies\n",
    "def fit_linear_regression(train_sizes, accuracies):\n",
    "    train_sizes_matrix = [ [ train_size ] for train_size in train_sizes ]\n",
    "    \n",
    "    linear = LinearRegression()\n",
    "    linear.fit(train_sizes_matrix, accuracies)\n",
    "    \n",
    "    return linear\n",
    "\n",
    "# fit_logistic_regression():\n",
    "#   given arrays of training data sizes and corresponding accuracies,\n",
    "#   train and return a logistic regression model for predicting accuracies\n",
    "def fit_logistic_regression(train_sizes, accuracies):\n",
    "    train_sizes_matrix = [ [ train_size ] for train_size in train_sizes ]\n",
    "    \n",
    "    logistic = LogisticRegression()\n",
    "    logistic.fit(train_sizes_matrix, accuracies)\n",
    "    \n",
    "    return logistic"
   ]
  },
  {
   "cell_type": "code",
   "execution_count": 19,
   "metadata": {
    "collapsed": false
   },
   "outputs": [
    {
     "name": "stdout",
     "output_type": "stream",
     "text": [
      "Linear model prediction for 60000 : 1.24307226036\n",
      "Logistic model prediction for 60000 : 0.97\n"
     ]
    }
   ],
   "source": [
    "def P4():\n",
    "    full_training_size = 60000\n",
    "    \n",
    "    linear = fit_linear_regression(train_sizes, accuracies)\n",
    "    linear_prediction = linear.predict(full_training_size)\n",
    "    print('Linear model prediction for ' \n",
    "          + str(full_training_size) + ' : ' + str(linear_prediction[0]))\n",
    "    \n",
    "    logistic = fit_logistic_regression(train_sizes, accuracies)\n",
    "    logistic_prediction = logistic.predict(full_training_size)\n",
    "    print('Logistic model prediction for ' \n",
    "          + str(full_training_size) + ' : ' + str(logistic_prediction[0]))\n",
    "    \n",
    "P4()"
   ]
  },
  {
   "cell_type": "code",
   "execution_count": 20,
   "metadata": {
    "collapsed": false
   },
   "outputs": [],
   "source": [
    "# train_k_nearest_neighbors():\n",
    "#   given the parameter k, training data and labels, and development data and labels,\n",
    "#   fit a k nearest neighbors classifier using the training data\n",
    "def train_k_nearest_neighbors(k,\n",
    "                              training_data,\n",
    "                              training_labels):\n",
    "\n",
    "    neigh = KNeighborsClassifier(n_neighbors = k)\n",
    "    neigh.fit(training_data, training_labels)\n",
    "    \n",
    "    return neigh\n",
    "\n",
    "# most_confused():\n",
    "#   given a confusion matrix\n",
    "#   returns a sequence that comprises the two most confused digits, and errors between them\n",
    "def most_confused(confusion):\n",
    "    rows, columns = np.shape(confusion)\n",
    "    worst_row, worst_column, worst_errors = 0, 1, 0\n",
    "    \n",
    "    # iterate through the upper triangle, ignoring the diagonals\n",
    "    # confused is the sum for each pair of indices\n",
    "    for row in range(rows):\n",
    "        for column in range(row + 1, columns):\n",
    "            errors = confusion[row][column] + confusion[column][row]\n",
    "            if errors > worst_errors:\n",
    "                worst_row, worst_column, worst_errors = row, column, errors\n",
    "    \n",
    "    return ( worst_row, worst_column, worst_errors )\n",
    "\n",
    "# select_pairwire_error_indices():\n",
    "#   given a predictions vector, actual label vector, and the digits of interest\n",
    "#   returns an array of indices where the digits were confused\n",
    "def select_pairwire_error_indices(predictions, labels, confused_low, confused_high):\n",
    "    error_indices = [ ]\n",
    "    for i, prediction in enumerate(predictions):\n",
    "        label = labels[i]\n",
    "        if ((prediction == confused_low and label == confused_high) or\n",
    "            (prediction == confused_high and label == confused_low)):\n",
    "            \n",
    "            error_indices.append(i)\n",
    "            \n",
    "    return error_indices"
   ]
  },
  {
   "cell_type": "code",
   "execution_count": 21,
   "metadata": {
    "collapsed": false
   },
   "outputs": [
    {
     "name": "stdout",
     "output_type": "stream",
     "text": [
      "Most confused digits are: 3 and 8, with 3 total confusion errors\n"
     ]
    },
    {
     "data": {
      "image/png": "[encoded data removed]",
      "text/plain": [
       "<matplotlib.figure.Figure at 0x10f361790>"
      ]
     },
     "metadata": {},
     "output_type": "display_data"
    },
    {
     "data": {
      "text/plain": [
       "array([[ 99,   0,   0,   0,   0,   0,   0,   0,   0,   0],\n",
       "       [  0, 105,   0,   0,   0,   0,   0,   0,   0,   0],\n",
       "       [  1,   0,  98,   2,   0,   0,   0,   1,   0,   0],\n",
       "       [  0,   0,   0,  83,   0,   1,   0,   0,   1,   1],\n",
       "       [  0,   0,   0,   0, 102,   0,   0,   0,   0,   2],\n",
       "       [  1,   0,   0,   0,   0,  88,   0,   0,   1,   1],\n",
       "       [  1,   0,   0,   0,   1,   0,  96,   0,   0,   0],\n",
       "       [  0,   0,   1,   0,   0,   0,   0, 111,   0,   1],\n",
       "       [  1,   0,   1,   2,   0,   2,   1,   0,  89,   0],\n",
       "       [  0,   0,   0,   0,   0,   0,   0,   0,   0, 106]])"
      ]
     },
     "execution_count": 21,
     "metadata": {},
     "output_type": "execute_result"
    }
   ],
   "source": [
    "def P5():\n",
    "    k = 1\n",
    "    neigh = train_k_nearest_neighbors(k, train_data, train_labels)\n",
    "    development_predicted = neigh.predict(dev_data)\n",
    "    \n",
    "    confusion = confusion_matrix(dev_labels, development_predicted)\n",
    "    \n",
    "    confused_low, confused_high, confusion_errors = most_confused(confusion)\n",
    "    print('Most confused digits are: ' + str(confused_low) + ' and ' + str(confused_high)\n",
    "          + ', with ' + str(confusion_errors) + ' total confusion errors')\n",
    "    \n",
    "    error_indices = select_pairwire_error_indices(\n",
    "    development_predicted, dev_labels, confused_low, confused_high)\n",
    "    error_examples = [ dev_data[error_indices] ]\n",
    "    plot_examples(error_examples)\n",
    "    \n",
    "    return confusion\n",
    "P5()"
   ]
  },
  {
   "cell_type": "code",
   "execution_count": 22,
   "metadata": {
    "collapsed": true
   },
   "outputs": [],
   "source": [
    "neigh = train_k_nearest_neighbors(1, train_data, train_labels)"
   ]
  },
  {
   "cell_type": "code",
   "execution_count": 23,
   "metadata": {
    "collapsed": true
   },
   "outputs": [],
   "source": [
    "development_predicted = neigh.predict(dev_data)"
   ]
  },
  {
   "cell_type": "code",
   "execution_count": 24,
   "metadata": {
    "collapsed": false
   },
   "outputs": [],
   "source": [
    "confusion = confusion_matrix(dev_labels, development_predicted)"
   ]
  },
  {
   "cell_type": "code",
   "execution_count": 25,
   "metadata": {
    "collapsed": false
   },
   "outputs": [
    {
     "name": "stdout",
     "output_type": "stream",
     "text": [
      "Most confused digits are: 3 and 8, with 3 total confusion errors\n"
     ]
    }
   ],
   "source": [
    "confused_low, confused_high, confusion_errors = most_confused(confusion)\n",
    "print('Most confused digits are: ' + str(confused_low) + ' and ' + str(confused_high)\n",
    "      + ', with ' + str(confusion_errors) + ' total confusion errors')"
   ]
  },
  {
   "cell_type": "code",
   "execution_count": 26,
   "metadata": {
    "collapsed": false
   },
   "outputs": [
    {
     "data": {
      "image/png": "[encoded data removed]",
      "text/plain": [
       "<matplotlib.figure.Figure at 0x10f336150>"
      ]
     },
     "metadata": {},
     "output_type": "display_data"
    }
   ],
   "source": [
    "error_indices = select_pairwire_error_indices(\n",
    "    development_predicted, dev_labels, confused_low, confused_high)\n",
    "error_examples = [ dev_data[error_indices] ]\n",
    "plot_examples(error_examples)\n"
   ]
  },
  {
   "cell_type": "code",
   "execution_count": 27,
   "metadata": {
    "collapsed": false
   },
   "outputs": [
    {
     "data": {
      "text/plain": [
       "(1, 784)"
      ]
     },
     "execution_count": 27,
     "metadata": {},
     "output_type": "execute_result"
    }
   ],
   "source": [
    "np.shape(example)"
   ]
  },
  {
   "cell_type": "code",
   "execution_count": 28,
   "metadata": {
    "collapsed": false
   },
   "outputs": [
    {
     "data": {
      "image/png": "[encoded data removed]",
      "text/plain": [
       "<matplotlib.figure.Figure at 0x1132bca10>"
      ]
     },
     "metadata": {},
     "output_type": "display_data"
    }
   ],
   "source": [
    "error_example = dev_data[561:562]\n",
    "np.shape(error_example)\n",
    "plot_one_example(error_example)"
   ]
  },
  {
   "cell_type": "code",
   "execution_count": 31,
   "metadata": {
    "collapsed": true
   },
   "outputs": [],
   "source": [
    "import itertools\n",
    "\n",
    "def blur(image):\n",
    "    pixel_matrix = example_as_pixel_matrix(image)\n",
    "    blurred_image = []\n",
    "    rows, columns = np.shape(pixel_matrix)\n",
    "    \n",
    "    for row in range(rows):\n",
    "        for column in range(columns):\n",
    "            # take the mean of the 9-pixel neighborhood (in clause)\n",
    "            # but guard against running off the edges of the matrix (if clause)\n",
    "            value = np.mean(list( \n",
    "                pixel_matrix[i][j] \n",
    "                for i, j\n",
    "                in itertools.product(\n",
    "                    range(row - 1, row + 2), \n",
    "                    range(column - 1, column + 2)\n",
    "                )\n",
    "                if (i >= 0) and (j >= 0) and (i < rows) and (j < columns)\n",
    "            ))\n",
    "            \n",
    "            blurred_image.append(value)\n",
    "    \n",
    "    return blurred_image\n",
    "    "
   ]
  },
  {
   "cell_type": "code",
   "execution_count": 34,
   "metadata": {
    "collapsed": false
   },
   "outputs": [
    {
     "data": {
      "image/png": "[encoded data removed]",
      "text/plain": [
       "<matplotlib.figure.Figure at 0x10e83b510>"
      ]
     },
     "metadata": {},
     "output_type": "display_data"
    },
    {
     "data": {
      "image/png": "[encoded data removed]",
      "text/plain": [
       "<matplotlib.figure.Figure at 0x10e83b910>"
      ]
     },
     "metadata": {},
     "output_type": "display_data"
    }
   ],
   "source": [
    "example = mini_train_data[:1]\n",
    "plot_one_example(example)\n",
    "plot_one_example(blur(example))"
   ]
  },
  {
   "cell_type": "code",
   "execution_count": 35,
   "metadata": {
    "collapsed": true
   },
   "outputs": [],
   "source": [
    "blurred_mini_train_data = [ blur(datum) for datum in mini_train_data ]"
   ]
  },
  {
   "cell_type": "code",
   "execution_count": 37,
   "metadata": {
    "collapsed": false
   },
   "outputs": [
    {
     "data": {
      "text/plain": [
       "(1000, 784)"
      ]
     },
     "execution_count": 37,
     "metadata": {},
     "output_type": "execute_result"
    }
   ],
   "source": [
    "np.shape(mini_train_data)"
   ]
  },
  {
   "cell_type": "code",
   "execution_count": 38,
   "metadata": {
    "collapsed": false
   },
   "outputs": [
    {
     "data": {
      "text/plain": [
       "(1000, 784)"
      ]
     },
     "execution_count": 38,
     "metadata": {},
     "output_type": "execute_result"
    }
   ],
   "source": [
    "np.shape(blurred_mini_train_data)"
   ]
  },
  {
   "cell_type": "code",
   "execution_count": 39,
   "metadata": {
    "collapsed": false
   },
   "outputs": [
    {
     "data": {
      "text/plain": [
       "(60000, 784)"
      ]
     },
     "execution_count": 39,
     "metadata": {},
     "output_type": "execute_result"
    }
   ],
   "source": [
    "np.shape(train_data)"
   ]
  },
  {
   "cell_type": "code",
   "execution_count": 32,
   "metadata": {
    "collapsed": false
   },
   "outputs": [
    {
     "ename": "KeyboardInterrupt",
     "evalue": "",
     "output_type": "error",
     "traceback": [
      "\u001b[0;31m---------------------------------------------------------------------------\u001b[0m",
      "\u001b[0;31mKeyboardInterrupt\u001b[0m                         Traceback (most recent call last)",
      "\u001b[0;32m<ipython-input-32-273dbc2de196>\u001b[0m in \u001b[0;36m<module>\u001b[0;34m()\u001b[0m\n\u001b[0;32m----> 1\u001b[0;31m \u001b[0mblurred_training_data\u001b[0m \u001b[0;34m=\u001b[0m \u001b[0;34m[\u001b[0m \u001b[0mblur\u001b[0m\u001b[0;34m(\u001b[0m\u001b[0mexample\u001b[0m\u001b[0;34m)\u001b[0m \u001b[0;32mfor\u001b[0m \u001b[0mexample\u001b[0m \u001b[0;32min\u001b[0m \u001b[0mtrain_data\u001b[0m \u001b[0;34m]\u001b[0m\u001b[0;34m\u001b[0m\u001b[0m\n\u001b[0m\u001b[1;32m      2\u001b[0m \u001b[0mnp\u001b[0m\u001b[0;34m.\u001b[0m\u001b[0mshape\u001b[0m\u001b[0;34m(\u001b[0m\u001b[0mblurred_training_data\u001b[0m\u001b[0;34m)\u001b[0m\u001b[0;34m\u001b[0m\u001b[0m\n",
      "\u001b[0;32m<ipython-input-31-c8b051aab3fa>\u001b[0m in \u001b[0;36mblur\u001b[0;34m(image)\u001b[0m\n\u001b[1;32m     15\u001b[0m                 in itertools.product(\n\u001b[1;32m     16\u001b[0m                     \u001b[0mrange\u001b[0m\u001b[0;34m(\u001b[0m\u001b[0mrow\u001b[0m \u001b[0;34m-\u001b[0m \u001b[0;36m1\u001b[0m\u001b[0;34m,\u001b[0m \u001b[0mrow\u001b[0m \u001b[0;34m+\u001b[0m \u001b[0;36m2\u001b[0m\u001b[0;34m)\u001b[0m\u001b[0;34m,\u001b[0m\u001b[0;34m\u001b[0m\u001b[0m\n\u001b[0;32m---> 17\u001b[0;31m                     \u001b[0mrange\u001b[0m\u001b[0;34m(\u001b[0m\u001b[0mcolumn\u001b[0m \u001b[0;34m-\u001b[0m \u001b[0;36m1\u001b[0m\u001b[0;34m,\u001b[0m \u001b[0mcolumn\u001b[0m \u001b[0;34m+\u001b[0m \u001b[0;36m2\u001b[0m\u001b[0;34m)\u001b[0m\u001b[0;34m\u001b[0m\u001b[0m\n\u001b[0m\u001b[1;32m     18\u001b[0m                 )\n\u001b[1;32m     19\u001b[0m                 \u001b[0;32mif\u001b[0m \u001b[0;34m(\u001b[0m\u001b[0mi\u001b[0m \u001b[0;34m>=\u001b[0m \u001b[0;36m0\u001b[0m\u001b[0;34m)\u001b[0m \u001b[0;32mand\u001b[0m \u001b[0;34m(\u001b[0m\u001b[0mj\u001b[0m \u001b[0;34m>=\u001b[0m \u001b[0;36m0\u001b[0m\u001b[0;34m)\u001b[0m \u001b[0;32mand\u001b[0m \u001b[0;34m(\u001b[0m\u001b[0mi\u001b[0m \u001b[0;34m<\u001b[0m \u001b[0mrows\u001b[0m\u001b[0;34m)\u001b[0m \u001b[0;32mand\u001b[0m \u001b[0;34m(\u001b[0m\u001b[0mj\u001b[0m \u001b[0;34m<\u001b[0m \u001b[0mcolumns\u001b[0m\u001b[0;34m)\u001b[0m\u001b[0;34m\u001b[0m\u001b[0m\n",
      "\u001b[0;32m//anaconda/lib/python2.7/site-packages/numpy/core/fromnumeric.pyc\u001b[0m in \u001b[0;36mmean\u001b[0;34m(a, axis, dtype, out, keepdims)\u001b[0m\n\u001b[1;32m   2733\u001b[0m \u001b[0;34m\u001b[0m\u001b[0m\n\u001b[1;32m   2734\u001b[0m     return _methods._mean(a, axis=axis, dtype=dtype,\n\u001b[0;32m-> 2735\u001b[0;31m                             out=out, keepdims=keepdims)\n\u001b[0m\u001b[1;32m   2736\u001b[0m \u001b[0;34m\u001b[0m\u001b[0m\n\u001b[1;32m   2737\u001b[0m \u001b[0;32mdef\u001b[0m \u001b[0mstd\u001b[0m\u001b[0;34m(\u001b[0m\u001b[0ma\u001b[0m\u001b[0;34m,\u001b[0m \u001b[0maxis\u001b[0m\u001b[0;34m=\u001b[0m\u001b[0mNone\u001b[0m\u001b[0;34m,\u001b[0m \u001b[0mdtype\u001b[0m\u001b[0;34m=\u001b[0m\u001b[0mNone\u001b[0m\u001b[0;34m,\u001b[0m \u001b[0mout\u001b[0m\u001b[0;34m=\u001b[0m\u001b[0mNone\u001b[0m\u001b[0;34m,\u001b[0m \u001b[0mddof\u001b[0m\u001b[0;34m=\u001b[0m\u001b[0;36m0\u001b[0m\u001b[0;34m,\u001b[0m \u001b[0mkeepdims\u001b[0m\u001b[0;34m=\u001b[0m\u001b[0mFalse\u001b[0m\u001b[0;34m)\u001b[0m\u001b[0;34m:\u001b[0m\u001b[0;34m\u001b[0m\u001b[0m\n",
      "\u001b[0;32m//anaconda/lib/python2.7/site-packages/numpy/core/_methods.pyc\u001b[0m in \u001b[0;36m_mean\u001b[0;34m(a, axis, dtype, out, keepdims)\u001b[0m\n\u001b[1;32m     54\u001b[0m     \u001b[0marr\u001b[0m \u001b[0;34m=\u001b[0m \u001b[0masanyarray\u001b[0m\u001b[0;34m(\u001b[0m\u001b[0ma\u001b[0m\u001b[0;34m)\u001b[0m\u001b[0;34m\u001b[0m\u001b[0m\n\u001b[1;32m     55\u001b[0m \u001b[0;34m\u001b[0m\u001b[0m\n\u001b[0;32m---> 56\u001b[0;31m     \u001b[0mrcount\u001b[0m \u001b[0;34m=\u001b[0m \u001b[0m_count_reduce_items\u001b[0m\u001b[0;34m(\u001b[0m\u001b[0marr\u001b[0m\u001b[0;34m,\u001b[0m \u001b[0maxis\u001b[0m\u001b[0;34m)\u001b[0m\u001b[0;34m\u001b[0m\u001b[0m\n\u001b[0m\u001b[1;32m     57\u001b[0m     \u001b[0;31m# Make this warning show up first\u001b[0m\u001b[0;34m\u001b[0m\u001b[0;34m\u001b[0m\u001b[0m\n\u001b[1;32m     58\u001b[0m     \u001b[0;32mif\u001b[0m \u001b[0mrcount\u001b[0m \u001b[0;34m==\u001b[0m \u001b[0;36m0\u001b[0m\u001b[0;34m:\u001b[0m\u001b[0;34m\u001b[0m\u001b[0m\n",
      "\u001b[0;32m//anaconda/lib/python2.7/site-packages/numpy/core/_methods.pyc\u001b[0m in \u001b[0;36m_count_reduce_items\u001b[0;34m(arr, axis)\u001b[0m\n\u001b[1;32m     43\u001b[0m \u001b[0;32mdef\u001b[0m \u001b[0m_count_reduce_items\u001b[0m\u001b[0;34m(\u001b[0m\u001b[0marr\u001b[0m\u001b[0;34m,\u001b[0m \u001b[0maxis\u001b[0m\u001b[0;34m)\u001b[0m\u001b[0;34m:\u001b[0m\u001b[0;34m\u001b[0m\u001b[0m\n\u001b[1;32m     44\u001b[0m     \u001b[0;32mif\u001b[0m \u001b[0maxis\u001b[0m \u001b[0;32mis\u001b[0m \u001b[0mNone\u001b[0m\u001b[0;34m:\u001b[0m\u001b[0;34m\u001b[0m\u001b[0m\n\u001b[0;32m---> 45\u001b[0;31m         \u001b[0maxis\u001b[0m \u001b[0;34m=\u001b[0m \u001b[0mtuple\u001b[0m\u001b[0;34m(\u001b[0m\u001b[0mrange\u001b[0m\u001b[0;34m(\u001b[0m\u001b[0marr\u001b[0m\u001b[0;34m.\u001b[0m\u001b[0mndim\u001b[0m\u001b[0;34m)\u001b[0m\u001b[0;34m)\u001b[0m\u001b[0;34m\u001b[0m\u001b[0m\n\u001b[0m\u001b[1;32m     46\u001b[0m     \u001b[0;32mif\u001b[0m \u001b[0;32mnot\u001b[0m \u001b[0misinstance\u001b[0m\u001b[0;34m(\u001b[0m\u001b[0maxis\u001b[0m\u001b[0;34m,\u001b[0m \u001b[0mtuple\u001b[0m\u001b[0;34m)\u001b[0m\u001b[0;34m:\u001b[0m\u001b[0;34m\u001b[0m\u001b[0m\n\u001b[1;32m     47\u001b[0m         \u001b[0maxis\u001b[0m \u001b[0;34m=\u001b[0m \u001b[0;34m(\u001b[0m\u001b[0maxis\u001b[0m\u001b[0;34m,\u001b[0m\u001b[0;34m)\u001b[0m\u001b[0;34m\u001b[0m\u001b[0m\n",
      "\u001b[0;31mKeyboardInterrupt\u001b[0m: "
     ]
    }
   ],
   "source": [
    "blurred_training_data = [ blur(example) for example in train_data ]\n",
    "np.shape(blurred_training_data)\n"
   ]
  },
  {
   "cell_type": "code",
   "execution_count": 316,
   "metadata": {
    "collapsed": false
   },
   "outputs": [
    {
     "data": {
      "text/plain": [
       "(1000, 784)"
      ]
     },
     "execution_count": 316,
     "metadata": {},
     "output_type": "execute_result"
    }
   ],
   "source": [
    "np.shape(blurred_training_data)"
   ]
  },
  {
   "cell_type": "code",
   "execution_count": 303,
   "metadata": {
    "collapsed": false
   },
   "outputs": [
    {
     "data": {
      "text/plain": [
       "0.0"
      ]
     },
     "execution_count": 303,
     "metadata": {},
     "output_type": "execute_result"
    }
   ],
   "source": [
    "row, column = 1, 2\n",
    "\n",
    "import itertools\n",
    "pixel_matrix = example_as_pixel_matrix(example)\n",
    "rows, columns = np.shape(pixel_matrix)\n",
    "value = np.mean(list( \n",
    "    pixel_matrix[i][j] \n",
    "    for i, j\n",
    "    in itertools.product(\n",
    "        range(row - 1, row + 2), \n",
    "        range(column - 1, column + 2)\n",
    "    )\n",
    "    if (i >= 0) and (j >= 0) and (i < rows) and (j < columns)\n",
    "))\n",
    "\n",
    "value\n",
    "\n",
    "np.mean(list( \n",
    "    pixel_matrix[i][j] \n",
    "    for i, j\n",
    "    in itertools.product(\n",
    "        range(row - 1, row + 2), \n",
    "        range(column - 1, column + 2)\n",
    "    )\n",
    "    if (i >= 0) and (j >= 0) and (i < rows) and (j < columns)\n",
    "))\n"
   ]
  },
  {
   "cell_type": "code",
   "execution_count": 314,
   "metadata": {
    "collapsed": false
   },
   "outputs": [
    {
     "data": {
      "image/png": "[encoded data removed]",
      "text/plain": [
       "<matplotlib.figure.Figure at 0x114a6d110>"
      ]
     },
     "metadata": {},
     "output_type": "display_data"
    },
    {
     "data": {
      "image/png": "[encoded data removed]",
      "text/plain": [
       "<matplotlib.figure.Figure at 0x114a6d390>"
      ]
     },
     "metadata": {},
     "output_type": "display_data"
    }
   ],
   "source": [
    "blurred_example = blur(example)\n",
    "plot_one_example(example)\n",
    "plot_one_example(blurred_example)"
   ]
  },
  {
   "cell_type": "code",
   "execution_count": 308,
   "metadata": {
    "collapsed": false
   },
   "outputs": [
    {
     "data": {
      "text/plain": [
       "(28, 28)"
      ]
     },
     "execution_count": 308,
     "metadata": {},
     "output_type": "execute_result"
    }
   ],
   "source": [
    "np.shape(example_as_pixel_matrix(blurred_example))"
   ]
  },
  {
   "cell_type": "code",
   "execution_count": 317,
   "metadata": {
    "collapsed": false
   },
   "outputs": [
    {
     "data": {
      "image/png": "[encoded data removed]",
      "text/plain": [
       "<matplotlib.figure.Figure at 0x114a6dc10>"
      ]
     },
     "metadata": {},
     "output_type": "display_data"
    }
   ],
   "source": [
    "plot_examples(take_n_examples_by_digit(train_data, train_labels, 10))"
   ]
  },
  {
   "cell_type": "code",
   "execution_count": 1,
   "metadata": {
    "collapsed": false
   },
   "outputs": [
    {
     "ename": "NameError",
     "evalue": "name 'train_data' is not defined",
     "output_type": "error",
     "traceback": [
      "\u001b[0;31m---------------------------------------------------------------------------\u001b[0m",
      "\u001b[0;31mNameError\u001b[0m                                 Traceback (most recent call last)",
      "\u001b[0;32m<ipython-input-1-24675fd84103>\u001b[0m in \u001b[0;36m<module>\u001b[0;34m()\u001b[0m\n\u001b[0;32m----> 1\u001b[0;31m \u001b[0mblurred_training_data\u001b[0m \u001b[0;34m=\u001b[0m \u001b[0;34m[\u001b[0m \u001b[0mblur\u001b[0m\u001b[0;34m(\u001b[0m\u001b[0mexample\u001b[0m\u001b[0;34m)\u001b[0m \u001b[0;32mfor\u001b[0m \u001b[0mexample\u001b[0m \u001b[0;32min\u001b[0m \u001b[0mtrain_data\u001b[0m \u001b[0;34m]\u001b[0m\u001b[0;34m\u001b[0m\u001b[0m\n\u001b[0m\u001b[1;32m      2\u001b[0m \u001b[0mplot_examples\u001b[0m\u001b[0;34m(\u001b[0m\u001b[0mtake_n_examples_by_digit\u001b[0m\u001b[0;34m(\u001b[0m\u001b[0mblurred_training_data\u001b[0m\u001b[0;34m,\u001b[0m \u001b[0mtrain_labels\u001b[0m\u001b[0;34m,\u001b[0m \u001b[0;36m10\u001b[0m\u001b[0;34m)\u001b[0m\u001b[0;34m)\u001b[0m\u001b[0;34m\u001b[0m\u001b[0m\n",
      "\u001b[0;31mNameError\u001b[0m: name 'train_data' is not defined"
     ]
    }
   ],
   "source": [
    "blurred_training_data = [ blur(example) for example in train_data ]\n",
    "plot_examples(take_n_examples_by_digit(blurred_training_data, train_labels, 10))"
   ]
  },
  {
   "cell_type": "code",
   "execution_count": 2,
   "metadata": {
    "collapsed": false
   },
   "outputs": [
    {
     "ename": "NameError",
     "evalue": "name 'train_data' is not defined",
     "output_type": "error",
     "traceback": [
      "\u001b[0;31m---------------------------------------------------------------------------\u001b[0m",
      "\u001b[0;31mNameError\u001b[0m                                 Traceback (most recent call last)",
      "\u001b[0;32m<ipython-input-2-f75a87e8673b>\u001b[0m in \u001b[0;36m<module>\u001b[0;34m()\u001b[0m\n\u001b[0;32m----> 1\u001b[0;31m \u001b[0mblurred_training_data\u001b[0m \u001b[0;34m=\u001b[0m \u001b[0;34m[\u001b[0m \u001b[0mblur\u001b[0m\u001b[0;34m(\u001b[0m\u001b[0mexample\u001b[0m\u001b[0;34m)\u001b[0m \u001b[0;32mfor\u001b[0m \u001b[0mexample\u001b[0m \u001b[0;32min\u001b[0m \u001b[0mtrain_data\u001b[0m \u001b[0;34m]\u001b[0m\u001b[0;34m\u001b[0m\u001b[0m\n\u001b[0m",
      "\u001b[0;31mNameError\u001b[0m: name 'train_data' is not defined"
     ]
    }
   ],
   "source": [
    "blurred_training_data = [ blur(example) for example in train_data ]"
   ]
  },
  {
   "cell_type": "code",
   "execution_count": 3,
   "metadata": {
    "collapsed": true
   },
   "outputs": [],
   "source": [
    "# binarize_example():\n",
    "#   Turn all pixels below 0.5 (or threshold) -> 0, greater -> 1\n",
    "def binarize_example(example, threshold = 0.5):\n",
    "    binarized = [ 1 if value > threshold else 0 for value in example ]\n",
    "    return binarized\n",
    "    \n",
    "# binarize_examples():\n",
    "#   Apply binarization to a set of example\n",
    "def binarize_examples(examples, threshold = 0.5):\n",
    "    binarized = [ binarize_example(example, threshold) for example in examples ]\n",
    "    return binarized\n",
    "\n",
    "# ternarize_example():\n",
    "#   Turn all pixels below 1/3 (or threshold) -> 0, 1/3 through 2/3 -> 1, greater -> 2\n",
    "def ternarize_example(example, threshold_low = 0.33333333, threshold_high = 0.66666666):\n",
    "    ternarized = [ \n",
    "        0 if value < threshold_low else 1 if value < threshold_high else 2\n",
    "        for value in example\n",
    "    ]\n",
    "    return ternarized\n",
    "\n",
    "# ternarize_examples():\n",
    "#   Apply ternarization to a set of example\n",
    "def ternarize_examples(examples, threshold_low = 0.33333333, threshold_high = 0.66666666):\n",
    "    ternarized = [ \n",
    "        ternarize_example(example, threshold_low, threshold_high) \n",
    "        for example in examples \n",
    "    ]\n",
    "    return ternarized"
   ]
  },
  {
   "cell_type": "code",
   "execution_count": 10,
   "metadata": {
    "collapsed": true
   },
   "outputs": [],
   "source": [
    "binarized_train_data = binarize_examples(train_data)"
   ]
  },
  {
   "cell_type": "code",
   "execution_count": 53,
   "metadata": {
    "collapsed": true
   },
   "outputs": [],
   "source": [
    "ternarized_train_data = ternarize_examples(train_data)"
   ]
  },
  {
   "cell_type": "code",
   "execution_count": 55,
   "metadata": {
    "collapsed": false
   },
   "outputs": [
    {
     "data": {
      "text/plain": [
       "BernoulliNB(alpha=1.0, binarize=0.0, class_prior=None, fit_prior=True)"
      ]
     },
     "execution_count": 55,
     "metadata": {},
     "output_type": "execute_result"
    }
   ],
   "source": [
    "binary_naive_bayes = BernoulliNB()\n",
    "binary_naive_bayes.fit(binarized_train_data, train_labels)"
   ]
  },
  {
   "cell_type": "code",
   "execution_count": 64,
   "metadata": {
    "collapsed": false
   },
   "outputs": [
    {
     "data": {
      "text/plain": [
       "MultinomialNB(alpha=1.0, class_prior=None, fit_prior=True)"
      ]
     },
     "execution_count": 64,
     "metadata": {},
     "output_type": "execute_result"
    }
   ],
   "source": [
    "ternary_naive_bayes = MultinomialNB()\n",
    "ternary_naive_bayes.fit(ternarized_train_data, train_labels)"
   ]
  },
  {
   "cell_type": "code",
   "execution_count": 56,
   "metadata": {
    "collapsed": true
   },
   "outputs": [],
   "source": [
    "binarized_dev_data = binarize_examples(dev_data)"
   ]
  },
  {
   "cell_type": "code",
   "execution_count": 63,
   "metadata": {
    "collapsed": true
   },
   "outputs": [],
   "source": [
    "ternarized_dev_data = ternarize_examples(dev_data)"
   ]
  },
  {
   "cell_type": "code",
   "execution_count": 57,
   "metadata": {
    "collapsed": true
   },
   "outputs": [],
   "source": [
    "binary_naive_bayes_predicted = binary_naive_bayes.predict(binarized_dev_data)"
   ]
  },
  {
   "cell_type": "code",
   "execution_count": 65,
   "metadata": {
    "collapsed": true
   },
   "outputs": [],
   "source": [
    "ternary_naive_bayes_predicted = ternary_naive_bayes.predict(ternarized_dev_data)"
   ]
  },
  {
   "cell_type": "code",
   "execution_count": 61,
   "metadata": {
    "collapsed": false
   },
   "outputs": [
    {
     "name": "stdout",
     "output_type": "stream",
     "text": [
      "============ Classification report for binarized ============\n",
      "\n",
      "             precision    recall  f1-score   support\n",
      "\n",
      "          0       0.94      0.98      0.96        99\n",
      "          1       0.86      0.95      0.90       105\n",
      "          2       0.88      0.79      0.84       102\n",
      "          3       0.70      0.76      0.73        86\n",
      "          4       0.86      0.83      0.84       104\n",
      "          5       0.88      0.77      0.82        91\n",
      "          6       0.91      0.88      0.89        98\n",
      "          7       0.93      0.82      0.87       113\n",
      "          8       0.75      0.82      0.79        96\n",
      "          9       0.76      0.83      0.79       106\n",
      "\n",
      "avg / total       0.85      0.84      0.85      1000\n",
      "\n",
      " Accuracy score: \n",
      "0.845\n"
     ]
    }
   ],
   "source": [
    "    target_names = [ str(i) for i in range(10) ]\n",
    "    print '============ Classification report for binarized ============'\n",
    "    print ''\n",
    "    print(classification_report(\n",
    "            dev_labels, \n",
    "            binary_naive_bayes_predicted, \n",
    "            target_names = target_names))\n",
    "    print ' Accuracy score: '\n",
    "    print(accuracy_score(dev_labels, binary_naive_bayes_predicted, normalize = True))"
   ]
  },
  {
   "cell_type": "code",
   "execution_count": 66,
   "metadata": {
    "collapsed": false
   },
   "outputs": [
    {
     "name": "stdout",
     "output_type": "stream",
     "text": [
      "============ Classification report for ternarized ============\n",
      "\n",
      "             precision    recall  f1-score   support\n",
      "\n",
      "          0       0.92      0.97      0.95        99\n",
      "          1       0.89      0.93      0.91       105\n",
      "          2       0.86      0.78      0.82       102\n",
      "          3       0.75      0.76      0.75        86\n",
      "          4       0.87      0.75      0.80       104\n",
      "          5       0.88      0.69      0.77        91\n",
      "          6       0.91      0.88      0.89        98\n",
      "          7       0.96      0.79      0.86       113\n",
      "          8       0.65      0.83      0.73        96\n",
      "          9       0.68      0.86      0.76       106\n",
      "\n",
      "avg / total       0.84      0.83      0.83      1000\n",
      "\n",
      " Accuracy score: \n",
      "0.826\n"
     ]
    }
   ],
   "source": [
    "    print '============ Classification report for ternarized ============'\n",
    "    print ''\n",
    "    print(classification_report(\n",
    "            dev_labels, \n",
    "            ternary_naive_bayes_predicted, \n",
    "            target_names = target_names))\n",
    "    print ' Accuracy score: '\n",
    "    print(accuracy_score(dev_labels, ternary_naive_bayes_predicted, normalize = True))"
   ]
  },
  {
   "cell_type": "code",
   "execution_count": 69,
   "metadata": {
    "collapsed": false
   },
   "outputs": [
    {
     "data": {
      "text/plain": [
       "[1, 2, 3, 4, 5, 6]"
      ]
     },
     "execution_count": 69,
     "metadata": {},
     "output_type": "execute_result"
    }
   ],
   "source": [
    "foo = (\n",
    "    [ 1, 2 ] +\n",
    "    [3, 4] +\n",
    "    [5, 6]\n",
    ")\n",
    "foo"
   ]
  },
  {
   "cell_type": "code",
   "execution_count": 4,
   "metadata": {
    "collapsed": false
   },
   "outputs": [],
   "source": [
    "def P7():\n",
    "    binarized_train_data = binarize_examples(train_data)\n",
    "    ternarized_train_data = ternarize_examples(train_data)\n",
    "    \n",
    "\n"
   ]
  },
  {
   "cell_type": "code",
   "execution_count": 6,
   "metadata": {
    "collapsed": true
   },
   "outputs": [],
   "source": [
    "alphas = {'alpha': [0.0, 0.0001, 0.001, 0.01, 0.1, 0.5, 1.0, 2.0, 10.0]} "
   ]
  },
  {
   "cell_type": "code",
   "execution_count": 7,
   "metadata": {
    "collapsed": true
   },
   "outputs": [],
   "source": [
    "bernoulli_naive_bayes = BernoulliNB()"
   ]
  },
  {
   "cell_type": "code",
   "execution_count": 9,
   "metadata": {
    "collapsed": true
   },
   "outputs": [],
   "source": [
    "grid_search = GridSearchCV(bernoulli_naive_bayes, alphas, verbose = 3)"
   ]
  },
  {
   "cell_type": "code",
   "execution_count": 11,
   "metadata": {
    "collapsed": false
   },
   "outputs": [
    {
     "name": "stdout",
     "output_type": "stream",
     "text": [
      "Fitting 3 folds for each of 9 candidates, totalling 27 fits\n",
      "[CV] alpha=0.0 .......................................................\n",
      "[CV] .............................. alpha=0.0, score=0.098940 -   7.0s"
     ]
    },
    {
     "name": "stderr",
     "output_type": "stream",
     "text": [
      "//anaconda/lib/python2.7/site-packages/sklearn/naive_bayes.py:534: RuntimeWarning: divide by zero encountered in log\n",
      "  self.feature_log_prob_ = (np.log(smoothed_fc)\n",
      "[Parallel(n_jobs=1)]: Done   1 jobs       | elapsed:    7.0s\n"
     ]
    },
    {
     "name": "stdout",
     "output_type": "stream",
     "text": [
      "\n",
      "[CV] alpha=0.0 .......................................................\n",
      "[CV] .............................. alpha=0.0, score=0.098900 -   7.9s\n",
      "[CV] alpha=0.0 .......................................................\n",
      "[CV] .............................. alpha=0.0, score=0.098910 -   6.4s\n",
      "[CV] alpha=0.0001 ....................................................\n",
      "[CV] ........................... alpha=0.0001, score=0.838966 -   5.2s\n",
      "[CV] alpha=0.0001 ....................................................\n",
      "[CV] ........................... alpha=0.0001, score=0.838650 -   6.1s\n",
      "[CV] alpha=0.0001 ....................................................\n",
      "[CV] ........................... alpha=0.0001, score=0.833083 -   8.2s\n",
      "[CV] alpha=0.001 .....................................................\n",
      "[CV] ............................ alpha=0.001, score=0.838666 -   5.0s\n",
      "[CV] alpha=0.001 .....................................................\n",
      "[CV] ............................ alpha=0.001, score=0.838500 -   5.3s\n",
      "[CV] alpha=0.001 .....................................................\n",
      "[CV] ............................ alpha=0.001, score=0.832933 -   6.8s\n",
      "[CV] alpha=0.01 ......................................................\n",
      "[CV] ............................. alpha=0.01, score=0.838566 -   6.0s\n",
      "[CV] alpha=0.01 ......................................................\n",
      "[CV] ............................. alpha=0.01, score=0.838250 -   4.8s\n",
      "[CV] alpha=0.01 ......................................................\n",
      "[CV] ............................. alpha=0.01, score=0.832733 -   5.4s\n",
      "[CV] alpha=0.1 .......................................................\n",
      "[CV] .............................. alpha=0.1, score=0.838216 -   6.8s\n",
      "[CV] alpha=0.1 .......................................................\n",
      "[CV] .............................. alpha=0.1, score=0.838000 -   6.2s\n",
      "[CV] alpha=0.1 .......................................................\n",
      "[CV] .............................. alpha=0.1, score=0.832283 -   6.4s\n",
      "[CV] alpha=0.5 .......................................................\n",
      "[CV] .............................. alpha=0.5, score=0.837516 -   9.1s\n",
      "[CV] alpha=0.5 .......................................................\n",
      "[CV] .............................. alpha=0.5, score=0.837200 -  10.7s\n",
      "[CV] alpha=0.5 .......................................................\n",
      "[CV] .............................. alpha=0.5, score=0.831533 -   7.4s\n",
      "[CV] alpha=1.0 .......................................................\n",
      "[CV] .............................. alpha=1.0, score=0.837316 -   4.9s\n",
      "[CV] alpha=1.0 .......................................................\n",
      "[CV] .............................. alpha=1.0, score=0.836900 -   7.2s\n",
      "[CV] alpha=1.0 .......................................................\n",
      "[CV] .............................. alpha=1.0, score=0.830983 -   5.3s\n",
      "[CV] alpha=2.0 .......................................................\n",
      "[CV] .............................. alpha=2.0, score=0.836516 -   5.5s\n",
      "[CV] alpha=2.0 .......................................................\n",
      "[CV] .............................. alpha=2.0, score=0.836900 -   7.0s\n",
      "[CV] alpha=2.0 .......................................................\n",
      "[CV] .............................. alpha=2.0, score=0.830283 -   4.9s\n",
      "[CV] alpha=10.0 ......................................................\n",
      "[CV] ............................. alpha=10.0, score=0.833417 -   6.7s\n",
      "[CV] alpha=10.0 ......................................................\n",
      "[CV] ............................. alpha=10.0, score=0.834200 -   6.0s\n",
      "[CV] alpha=10.0 ......................................................\n",
      "[CV] ............................. alpha=10.0, score=0.828283 -   5.3s\n"
     ]
    },
    {
     "name": "stderr",
     "output_type": "stream",
     "text": [
      "[Parallel(n_jobs=1)]: Done  27 out of  27 | elapsed:  2.9min finished\n"
     ]
    },
    {
     "data": {
      "text/plain": [
       "GridSearchCV(cv=None,\n",
       "       estimator=BernoulliNB(alpha=1.0, binarize=0.0, class_prior=None, fit_prior=True),\n",
       "       fit_params={}, iid=True, loss_func=None, n_jobs=1,\n",
       "       param_grid={'alpha': [0.0, 0.0001, 0.001, 0.01, 0.1, 0.5, 1.0, 2.0, 10.0]},\n",
       "       pre_dispatch='2*n_jobs', refit=True, score_func=None, scoring=None,\n",
       "       verbose=3)"
      ]
     },
     "execution_count": 11,
     "metadata": {},
     "output_type": "execute_result"
    }
   ],
   "source": [
    "grid_search.fit(binarized_train_data, train_labels)"
   ]
  },
  {
   "cell_type": "code",
   "execution_count": 13,
   "metadata": {
    "collapsed": false
   },
   "outputs": [
    {
     "data": {
      "text/plain": [
       "{'alpha': 0.0001}"
      ]
     },
     "execution_count": 13,
     "metadata": {},
     "output_type": "execute_result"
    }
   ],
   "source": [
    "grid_search.best_params_\n",
    "\n"
   ]
  },
  {
   "cell_type": "code",
   "execution_count": null,
   "metadata": {
    "collapsed": true
   },
   "outputs": [],
   "source": []
  },
  {
   "cell_type": "code",
   "execution_count": null,
   "metadata": {
    "collapsed": true
   },
   "outputs": [],
   "source": []
  }
 ],
 "metadata": {
  "kernelspec": {
   "display_name": "Python 2",
   "language": "python",
   "name": "python2"
  },
  "language_info": {
   "codemirror_mode": {
    "name": "ipython",
    "version": 2
   },
   "file_extension": ".py",
   "mimetype": "text/x-python",
   "name": "python",
   "nbconvert_exporter": "python",
   "pygments_lexer": "ipython2",
   "version": "2.7.10"
  }
 },
 "nbformat": 4,
 "nbformat_minor": 0
}
